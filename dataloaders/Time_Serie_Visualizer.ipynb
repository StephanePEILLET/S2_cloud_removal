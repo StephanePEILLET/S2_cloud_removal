{
 "cells": [
  {
   "cell_type": "markdown",
   "id": "9678de16",
   "metadata": {},
   "source": [
    "# <center> Time Serie Visualizer </center>"
   ]
  },
  {
   "cell_type": "code",
   "execution_count": 3,
   "id": "bf6c423f",
   "metadata": {},
   "outputs": [],
   "source": [
    "import os\n",
    "from pathlib import Path\n",
    "import numpy as np\n",
    "\n",
    "from matplotlib.widgets import Button\n",
    "import ipywidgets as widgets\n",
    "import matplotlib\n",
    "import matplotlib.pyplot as plt\n",
    "\n",
    "from mpl_interactions import ipyplot as iplt\n",
    "from mpl_interactions import hyperslicer\n",
    "import ipywidgets as widgets\n",
    "\n",
    "from ts_viz import TimeSerieVisualizer\n",
    "from dataloader import CircaPatchDataSet\n",
    "\n",
    "%matplotlib ipympl"
   ]
  },
  {
   "cell_type": "code",
   "execution_count": 5,
   "id": "cd0e5d89",
   "metadata": {},
   "outputs": [
    {
     "data": {
      "application/vnd.jupyter.widget-view+json": {
       "model_id": "26bbadb9237d48bfbd1dfb54ac44cefa",
       "version_major": 2,
       "version_minor": 0
      },
      "text/plain": [
       "mgrs:   0%|          | 0/35 [00:00<?, ?it/s]"
      ]
     },
     "metadata": {},
     "output_type": "display_data"
    },
    {
     "data": {
      "application/vnd.jupyter.widget-view+json": {
       "model_id": "6afe8ed6b0cd450698e0bebe5d34899f",
       "version_major": 2,
       "version_minor": 0
      },
      "text/plain": [
       "mgrs25:   0%|          | 0/2 [00:00<?, ?it/s]"
      ]
     },
     "metadata": {},
     "output_type": "display_data"
    },
    {
     "ename": "AssertionError",
     "evalue": "",
     "output_type": "error",
     "traceback": [
      "\u001b[0;31m---------------------------------------------------------------------------\u001b[0m",
      "\u001b[0;31mAssertionError\u001b[0m                            Traceback (most recent call last)",
      "Cell \u001b[0;32mIn[5], line 9\u001b[0m\n\u001b[1;32m      5\u001b[0m data_radar \u001b[38;5;241m=\u001b[39m path_dataset_CIRCA \u001b[38;5;241m/\u001b[39m \u001b[38;5;124m\"\u001b[39m\u001b[38;5;124mData_Raster\u001b[39m\u001b[38;5;124m\"\u001b[39m \u001b[38;5;241m/\u001b[39m \u001b[38;5;124m\"\u001b[39m\u001b[38;5;124mradar_dataset_v2\u001b[39m\u001b[38;5;124m\"\u001b[39m\n\u001b[1;32m      7\u001b[0m patch_size \u001b[38;5;241m=\u001b[39m \u001b[38;5;241m256\u001b[39m\n\u001b[0;32m----> 9\u001b[0m ds \u001b[38;5;241m=\u001b[39m \u001b[43mCircaPatchDataSet\u001b[49m\u001b[43m(\u001b[49m\n\u001b[1;32m     10\u001b[0m \u001b[43m    \u001b[49m\u001b[43mdata_optique\u001b[49m\u001b[38;5;241;43m=\u001b[39;49m\u001b[43mdata_optique\u001b[49m\u001b[43m,\u001b[49m\n\u001b[1;32m     11\u001b[0m \u001b[43m    \u001b[49m\u001b[43mdata_radar\u001b[49m\u001b[38;5;241;43m=\u001b[39;49m\u001b[43mdata_radar\u001b[49m\u001b[43m,\u001b[49m\n\u001b[1;32m     12\u001b[0m \u001b[43m    \u001b[49m\u001b[43mpatch_size\u001b[49m\u001b[38;5;241;43m=\u001b[39;49m\u001b[38;5;241;43m256\u001b[39;49m\u001b[43m,\u001b[49m\n\u001b[1;32m     13\u001b[0m \u001b[43m    \u001b[49m\u001b[43mno_filter\u001b[49m\u001b[38;5;241;43m=\u001b[39;49m\u001b[38;5;28;43;01mTrue\u001b[39;49;00m\u001b[43m,\u001b[49m\n\u001b[1;32m     14\u001b[0m \u001b[38;5;66;43;03m#     load_dataset=\"./datasetCIRCAUnCRtainTS.csv\",\u001b[39;49;00m\n\u001b[1;32m     15\u001b[0m \u001b[43m)\u001b[49m\n",
      "File \u001b[0;32m~/speillet/pac_rpg/cloud_reconstructions/dataloader_CIRCA/dataloader.py:54\u001b[0m, in \u001b[0;36mCircaPatchDataSet.__init__\u001b[0;34m(self, data_optique, data_radar, patch_size, overlap, load_dataset, shuffle, use_SAR, no_filter)\u001b[0m\n\u001b[1;32m     52\u001b[0m \u001b[38;5;28mself\u001b[39m\u001b[38;5;241m.\u001b[39muse_SAR \u001b[38;5;241m=\u001b[39m use_SAR\n\u001b[1;32m     53\u001b[0m \u001b[38;5;28mself\u001b[39m\u001b[38;5;241m.\u001b[39mno_filter \u001b[38;5;241m=\u001b[39m no_filter\n\u001b[0;32m---> 54\u001b[0m \u001b[38;5;28;43mself\u001b[39;49m\u001b[38;5;241;43m.\u001b[39;49m\u001b[43msetup\u001b[49m\u001b[43m(\u001b[49m\u001b[43m)\u001b[49m\n",
      "File \u001b[0;32m~/speillet/pac_rpg/cloud_reconstructions/dataloader_CIRCA/dataloader.py:75\u001b[0m, in \u001b[0;36mCircaPatchDataSet.setup\u001b[0;34m(self, load_dataset)\u001b[0m\n\u001b[1;32m     73\u001b[0m     \u001b[38;5;28mself\u001b[39m\u001b[38;5;241m.\u001b[39mload_exported_data(load_dataset \u001b[38;5;129;01mor\u001b[39;00m \u001b[38;5;28mself\u001b[39m\u001b[38;5;241m.\u001b[39mload_dataset)\n\u001b[1;32m     74\u001b[0m \u001b[38;5;28;01melse\u001b[39;00m:\n\u001b[0;32m---> 75\u001b[0m     \u001b[38;5;28;43mself\u001b[39;49m\u001b[38;5;241;43m.\u001b[39;49m\u001b[43msetup_zones\u001b[49m\u001b[43m(\u001b[49m\u001b[43m)\u001b[49m\n\u001b[1;32m     76\u001b[0m     \u001b[38;5;28mself\u001b[39m\u001b[38;5;241m.\u001b[39msetup_patches()\n\u001b[1;32m     78\u001b[0m \u001b[38;5;28;01mif\u001b[39;00m \u001b[38;5;28mself\u001b[39m\u001b[38;5;241m.\u001b[39mshuffle:\n",
      "File \u001b[0;32m~/speillet/pac_rpg/cloud_reconstructions/dataloader_CIRCA/dataloader.py:169\u001b[0m, in \u001b[0;36mCircaPatchDataSet.setup_zones\u001b[0;34m(self)\u001b[0m\n\u001b[1;32m    167\u001b[0m \u001b[38;5;28;01mfor\u001b[39;00m mgrs \u001b[38;5;129;01min\u001b[39;00m tqdm(\u001b[38;5;28mlist\u001b[39m(\u001b[38;5;28mself\u001b[39m\u001b[38;5;241m.\u001b[39mdata_optique\u001b[38;5;241m.\u001b[39miterdir()), leave\u001b[38;5;241m=\u001b[39m\u001b[38;5;28;01mFalse\u001b[39;00m, desc\u001b[38;5;241m=\u001b[39m\u001b[38;5;124m\"\u001b[39m\u001b[38;5;124mmgrs\u001b[39m\u001b[38;5;124m\"\u001b[39m):\n\u001b[1;32m    168\u001b[0m     \u001b[38;5;28;01mfor\u001b[39;00m mgrs25 \u001b[38;5;129;01min\u001b[39;00m tqdm(\u001b[38;5;28mlist\u001b[39m(mgrs\u001b[38;5;241m.\u001b[39miterdir()), leave\u001b[38;5;241m=\u001b[39m\u001b[38;5;28;01mFalse\u001b[39;00m, desc\u001b[38;5;241m=\u001b[39m\u001b[38;5;124m\"\u001b[39m\u001b[38;5;124mmgrs25\u001b[39m\u001b[38;5;124m\"\u001b[39m):\n\u001b[0;32m--> 169\u001b[0m         \u001b[38;5;28;43mself\u001b[39;49m\u001b[38;5;241;43m.\u001b[39;49m\u001b[43mprocess_mgrs25_zone\u001b[49m\u001b[43m(\u001b[49m\u001b[43mmgrs\u001b[49m\u001b[43m,\u001b[49m\u001b[43m \u001b[49m\u001b[43mmgrs25\u001b[49m\u001b[43m)\u001b[49m\n",
      "File \u001b[0;32m~/speillet/pac_rpg/cloud_reconstructions/dataloader_CIRCA/dataloader.py:191\u001b[0m, in \u001b[0;36mCircaPatchDataSet.process_mgrs25_zone\u001b[0;34m(self, mgrs, mgrs25)\u001b[0m\n\u001b[1;32m    189\u001b[0m \u001b[38;5;66;03m# Process Sentinel-1 data\u001b[39;00m\n\u001b[1;32m    190\u001b[0m mgrs25_radar \u001b[38;5;241m=\u001b[39m \u001b[38;5;28mself\u001b[39m\u001b[38;5;241m.\u001b[39mdata_radar \u001b[38;5;241m/\u001b[39m mgrs_name \u001b[38;5;241m/\u001b[39m mgrs25_name\n\u001b[0;32m--> 191\u001b[0m \u001b[38;5;28;01massert\u001b[39;00m mgrs25_radar\u001b[38;5;241m.\u001b[39mexists()\n\u001b[1;32m    193\u001b[0m list_tifs_radar \u001b[38;5;241m=\u001b[39m \u001b[38;5;28msorted\u001b[39m(mgrs25_radar\u001b[38;5;241m.\u001b[39mrglob(\u001b[38;5;124m\"\u001b[39m\u001b[38;5;124m*.tif\u001b[39m\u001b[38;5;124m\"\u001b[39m))\n\u001b[1;32m    194\u001b[0m list_jsons_radar \u001b[38;5;241m=\u001b[39m \u001b[38;5;28msorted\u001b[39m(mgrs25_radar\u001b[38;5;241m.\u001b[39mrglob(\u001b[38;5;124m\"\u001b[39m\u001b[38;5;124m*.json\u001b[39m\u001b[38;5;124m\"\u001b[39m))\n",
      "\u001b[0;31mAssertionError\u001b[0m: "
     ]
    }
   ],
   "source": [
    "store_dai = Path(\"/home/dl/speillet/Partage/store-dai/\")\n",
    "\n",
    "path_dataset_CIRCA = store_dai / \"projets/pac/3str/EXP_2\"\n",
    "data_optique = path_dataset_CIRCA / \"Data_Raster\" / \"optique_dataset\"\n",
    "data_radar = path_dataset_CIRCA / \"Data_Raster\" / \"radar_dataset_v2\"\n",
    "\n",
    "patch_size = 256\n",
    "\n",
    "ds = CircaPatchDataSet(\n",
    "    data_optique=data_optique,\n",
    "    data_radar=data_radar,\n",
    "    patch_size=256,\n",
    "    no_filter=True,\n",
    "#     load_dataset=\"./datasetCIRCAUnCRtainTS.csv\",\n",
    ")"
   ]
  },
  {
   "cell_type": "code",
   "execution_count": null,
   "id": "b19c34b2",
   "metadata": {},
   "outputs": [],
   "source": [
    "sample = next(iter(ds))"
   ]
  },
  {
   "cell_type": "code",
   "execution_count": null,
   "id": "f6039cac",
   "metadata": {},
   "outputs": [],
   "source": [
    "ui = TimeSerieVisualizer(\n",
    "    data={\n",
    "        \"img\": sample[\"data_S2\"],\n",
    "        \"msk\": sample[\"masks\"],\n",
    "    },\n",
    "    dates=sample[\"dates_S2\"].tolist(),\n",
    "    sat_types=\"L2A\",\n",
    ")()"
   ]
  },
  {
   "cell_type": "code",
   "execution_count": null,
   "id": "a1c52937",
   "metadata": {},
   "outputs": [],
   "source": [
    "ds.get_random_patch_by_mgrs(\"31TGJ\")"
   ]
  },
  {
   "cell_type": "code",
   "execution_count": null,
   "id": "4020d6c4",
   "metadata": {},
   "outputs": [],
   "source": []
  }
 ],
 "metadata": {
  "kernelspec": {
   "display_name": "Python (cloud_reconstruction)",
   "language": "python",
   "name": "cloud_reconstruction"
  },
  "language_info": {
   "codemirror_mode": {
    "name": "ipython",
    "version": 3
   },
   "file_extension": ".py",
   "mimetype": "text/x-python",
   "name": "python",
   "nbconvert_exporter": "python",
   "pygments_lexer": "ipython3",
   "version": "3.12.0"
  }
 },
 "nbformat": 4,
 "nbformat_minor": 5
}
